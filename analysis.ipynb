{
 "cells": [
  {
   "cell_type": "markdown",
   "id": "277f7645-4fdf-4309-9bed-73f0b14f66be",
   "metadata": {},
   "source": [
    "# STAT 344 Group Project"
   ]
  },
  {
   "cell_type": "markdown",
   "id": "1ecc272f-baae-4cee-856d-d4bbdd34e753",
   "metadata": {},
   "source": [
    "### Estimates for SRS"
   ]
  },
  {
   "cell_type": "code",
   "execution_count": 1,
   "id": "d7d31d19-7ec4-4588-a334-cd24a8720cb2",
   "metadata": {},
   "outputs": [
    {
     "name": "stderr",
     "output_type": "stream",
     "text": [
      "-- \u001b[1mAttaching packages\u001b[22m ------------------------------------------------------------------------------- tidyverse 1.3.2 --\n",
      "\u001b[32mv\u001b[39m \u001b[34mggplot2\u001b[39m 3.3.6      \u001b[32mv\u001b[39m \u001b[34mpurrr  \u001b[39m 0.3.5 \n",
      "\u001b[32mv\u001b[39m \u001b[34mtibble \u001b[39m 3.1.8      \u001b[32mv\u001b[39m \u001b[34mdplyr  \u001b[39m 1.0.10\n",
      "\u001b[32mv\u001b[39m \u001b[34mtidyr  \u001b[39m 1.2.1      \u001b[32mv\u001b[39m \u001b[34mstringr\u001b[39m 1.4.1 \n",
      "\u001b[32mv\u001b[39m \u001b[34mreadr  \u001b[39m 2.1.3      \u001b[32mv\u001b[39m \u001b[34mforcats\u001b[39m 0.5.2 \n",
      "-- \u001b[1mConflicts\u001b[22m ---------------------------------------------------------------------------------- tidyverse_conflicts() --\n",
      "\u001b[31mx\u001b[39m \u001b[34mdplyr\u001b[39m::\u001b[32mfilter()\u001b[39m masks \u001b[34mstats\u001b[39m::filter()\n",
      "\u001b[31mx\u001b[39m \u001b[34mdplyr\u001b[39m::\u001b[32mlag()\u001b[39m    masks \u001b[34mstats\u001b[39m::lag()\n"
     ]
    }
   ],
   "source": [
    "library(tidyverse)\n",
    "library(dplyr)"
   ]
  },
  {
   "cell_type": "code",
   "execution_count": 2,
   "id": "044a9906-c586-433a-98db-70574a828bd8",
   "metadata": {},
   "outputs": [
    {
     "data": {
      "text/html": [
       "<table class=\"dataframe\">\n",
       "<caption>A data.frame: 6 × 11</caption>\n",
       "<thead>\n",
       "\t<tr><th></th><th scope=col>X</th><th scope=col>city</th><th scope=col>city_ascii</th><th scope=col>country</th><th scope=col>iso2</th><th scope=col>capital</th><th scope=col>population</th><th scope=col>continent</th><th scope=col>word_count</th><th scope=col>views</th><th scope=col>views_proportion</th></tr>\n",
       "\t<tr><th></th><th scope=col>&lt;int&gt;</th><th scope=col>&lt;chr&gt;</th><th scope=col>&lt;chr&gt;</th><th scope=col>&lt;chr&gt;</th><th scope=col>&lt;chr&gt;</th><th scope=col>&lt;chr&gt;</th><th scope=col>&lt;dbl&gt;</th><th scope=col>&lt;chr&gt;</th><th scope=col>&lt;int&gt;</th><th scope=col>&lt;int&gt;</th><th scope=col>&lt;int&gt;</th></tr>\n",
       "</thead>\n",
       "<tbody>\n",
       "\t<tr><th scope=row>1</th><td> 3831</td><td>Coquitlam     </td><td>Coquitlam     </td><td>Canada          </td><td>CA</td><td>       </td><td>139284</td><td>NA</td><td> 5418</td><td>272</td><td>0</td></tr>\n",
       "\t<tr><th scope=row>2</th><td> 9113</td><td>Lorengau      </td><td>Lorengau      </td><td>Papua New Guinea</td><td>PG</td><td>admin  </td><td>  5806</td><td>OC</td><td>  409</td><td> 16</td><td>0</td></tr>\n",
       "\t<tr><th scope=row>3</th><td>  702</td><td>Asmara        </td><td>Asmara        </td><td>Eritrea         </td><td>ER</td><td>primary</td><td>963000</td><td>AF</td><td> 2557</td><td>495</td><td>0</td></tr>\n",
       "\t<tr><th scope=row>4</th><td> 2285</td><td>St. Petersburg</td><td>St. Petersburg</td><td>United States   </td><td>US</td><td>       </td><td>265351</td><td>NA</td><td>11938</td><td>169</td><td>0</td></tr>\n",
       "\t<tr><th scope=row>5</th><td> 7610</td><td>Fazakerley    </td><td>Fazakerley    </td><td>United Kingdom  </td><td>GB</td><td>       </td><td> 16786</td><td>EU</td><td>  277</td><td> 56</td><td>0</td></tr>\n",
       "\t<tr><th scope=row>6</th><td>27739</td><td>Nemyriv       </td><td>Nemyriv       </td><td>Ukraine         </td><td>UA</td><td>minor  </td><td> 11697</td><td>EU</td><td>  575</td><td> 10</td><td>0</td></tr>\n",
       "</tbody>\n",
       "</table>\n"
      ],
      "text/latex": [
       "A data.frame: 6 × 11\n",
       "\\begin{tabular}{r|lllllllllll}\n",
       "  & X & city & city\\_ascii & country & iso2 & capital & population & continent & word\\_count & views & views\\_proportion\\\\\n",
       "  & <int> & <chr> & <chr> & <chr> & <chr> & <chr> & <dbl> & <chr> & <int> & <int> & <int>\\\\\n",
       "\\hline\n",
       "\t1 &  3831 & Coquitlam      & Coquitlam      & Canada           & CA &         & 139284 & NA &  5418 & 272 & 0\\\\\n",
       "\t2 &  9113 & Lorengau       & Lorengau       & Papua New Guinea & PG & admin   &   5806 & OC &   409 &  16 & 0\\\\\n",
       "\t3 &   702 & Asmara         & Asmara         & Eritrea          & ER & primary & 963000 & AF &  2557 & 495 & 0\\\\\n",
       "\t4 &  2285 & St. Petersburg & St. Petersburg & United States    & US &         & 265351 & NA & 11938 & 169 & 0\\\\\n",
       "\t5 &  7610 & Fazakerley     & Fazakerley     & United Kingdom   & GB &         &  16786 & EU &   277 &  56 & 0\\\\\n",
       "\t6 & 27739 & Nemyriv        & Nemyriv        & Ukraine          & UA & minor   &  11697 & EU &   575 &  10 & 0\\\\\n",
       "\\end{tabular}\n"
      ],
      "text/markdown": [
       "\n",
       "A data.frame: 6 × 11\n",
       "\n",
       "| <!--/--> | X &lt;int&gt; | city &lt;chr&gt; | city_ascii &lt;chr&gt; | country &lt;chr&gt; | iso2 &lt;chr&gt; | capital &lt;chr&gt; | population &lt;dbl&gt; | continent &lt;chr&gt; | word_count &lt;int&gt; | views &lt;int&gt; | views_proportion &lt;int&gt; |\n",
       "|---|---|---|---|---|---|---|---|---|---|---|---|\n",
       "| 1 |  3831 | Coquitlam      | Coquitlam      | Canada           | CA | <!----> | 139284 | NA |  5418 | 272 | 0 |\n",
       "| 2 |  9113 | Lorengau       | Lorengau       | Papua New Guinea | PG | admin   |   5806 | OC |   409 |  16 | 0 |\n",
       "| 3 |   702 | Asmara         | Asmara         | Eritrea          | ER | primary | 963000 | AF |  2557 | 495 | 0 |\n",
       "| 4 |  2285 | St. Petersburg | St. Petersburg | United States    | US | <!----> | 265351 | NA | 11938 | 169 | 0 |\n",
       "| 5 |  7610 | Fazakerley     | Fazakerley     | United Kingdom   | GB | <!----> |  16786 | EU |   277 |  56 | 0 |\n",
       "| 6 | 27739 | Nemyriv        | Nemyriv        | Ukraine          | UA | minor   |  11697 | EU |   575 |  10 | 0 |\n",
       "\n"
      ],
      "text/plain": [
       "  X     city           city_ascii     country          iso2 capital population\n",
       "1  3831 Coquitlam      Coquitlam      Canada           CA           139284    \n",
       "2  9113 Lorengau       Lorengau       Papua New Guinea PG   admin     5806    \n",
       "3   702 Asmara         Asmara         Eritrea          ER   primary 963000    \n",
       "4  2285 St. Petersburg St. Petersburg United States    US           265351    \n",
       "5  7610 Fazakerley     Fazakerley     United Kingdom   GB            16786    \n",
       "6 27739 Nemyriv        Nemyriv        Ukraine          UA   minor    11697    \n",
       "  continent word_count views views_proportion\n",
       "1 NA         5418      272   0               \n",
       "2 OC          409       16   0               \n",
       "3 AF         2557      495   0               \n",
       "4 NA        11938      169   0               \n",
       "5 EU          277       56   0               \n",
       "6 EU          575       10   0               "
      ]
     },
     "metadata": {},
     "output_type": "display_data"
    }
   ],
   "source": [
    "city<-read.csv(\"cities_srs.csv\")\n",
    "head(city)"
   ]
  },
  {
   "cell_type": "code",
   "execution_count": 3,
   "id": "b96c53bd-4a1a-41eb-943b-bf2c8467419e",
   "metadata": {},
   "outputs": [
    {
     "data": {
      "text/html": [
       "0.976218787158145"
      ],
      "text/latex": [
       "0.976218787158145"
      ],
      "text/markdown": [
       "0.976218787158145"
      ],
      "text/plain": [
       "[1] 0.9762188"
      ]
     },
     "metadata": {},
     "output_type": "display_data"
    }
   ],
   "source": [
    "len<-nrow(city)\n",
    "FPC <- 1-(len/4205)\n",
    "FPC"
   ]
  },
  {
   "cell_type": "markdown",
   "id": "383ebdd3-70b0-4664-9a73-da7cfcc691bb",
   "metadata": {},
   "source": [
    "FPC is small enough to be ignored, but we will use it since we have calculated it"
   ]
  },
  {
   "cell_type": "code",
   "execution_count": 4,
   "id": "ce15e0b7-e472-4cb6-935f-9771e840d579",
   "metadata": {},
   "outputs": [
    {
     "data": {
      "text/html": [
       "<table class=\"dataframe\">\n",
       "<caption>A tibble: 1 × 2</caption>\n",
       "<thead>\n",
       "\t<tr><th scope=col>mean_word_count</th><th scope=col>sd_word_count</th></tr>\n",
       "\t<tr><th scope=col>&lt;dbl&gt;</th><th scope=col>&lt;dbl&gt;</th></tr>\n",
       "</thead>\n",
       "<tbody>\n",
       "\t<tr><td>943.58</td><td>2003.305</td></tr>\n",
       "</tbody>\n",
       "</table>\n"
      ],
      "text/latex": [
       "A tibble: 1 × 2\n",
       "\\begin{tabular}{ll}\n",
       " mean\\_word\\_count & sd\\_word\\_count\\\\\n",
       " <dbl> & <dbl>\\\\\n",
       "\\hline\n",
       "\t 943.58 & 2003.305\\\\\n",
       "\\end{tabular}\n"
      ],
      "text/markdown": [
       "\n",
       "A tibble: 1 × 2\n",
       "\n",
       "| mean_word_count &lt;dbl&gt; | sd_word_count &lt;dbl&gt; |\n",
       "|---|---|\n",
       "| 943.58 | 2003.305 |\n",
       "\n"
      ],
      "text/plain": [
       "  mean_word_count sd_word_count\n",
       "1 943.58          2003.305     "
      ]
     },
     "metadata": {},
     "output_type": "display_data"
    }
   ],
   "source": [
    "### SRS estimate +sd (with FPC))\n",
    "\n",
    "summary<- tibble(city)%>%\n",
    "        summarize(mean_word_count = mean(word_count),\n",
    "                  sd_word_count = sqrt(var(word_count)*FPC))\n",
    "\n",
    "summary"
   ]
  },
  {
   "cell_type": "code",
   "execution_count": 5,
   "id": "098e4dbd-4eb4-4d5e-af59-8c4fd4c23b15",
   "metadata": {},
   "outputs": [
    {
     "data": {
      "text/html": [
       "<table class=\"dataframe\">\n",
       "<caption>A tibble: 6 × 2</caption>\n",
       "<thead>\n",
       "\t<tr><th scope=col>continent</th><th scope=col>no_of_countries</th></tr>\n",
       "\t<tr><th scope=col>&lt;chr&gt;</th><th scope=col>&lt;int&gt;</th></tr>\n",
       "</thead>\n",
       "<tbody>\n",
       "\t<tr><td>AF</td><td> 5</td></tr>\n",
       "\t<tr><td>AS</td><td>27</td></tr>\n",
       "\t<tr><td>EU</td><td>43</td></tr>\n",
       "\t<tr><td>OC</td><td> 2</td></tr>\n",
       "\t<tr><td>SA</td><td> 7</td></tr>\n",
       "\t<tr><td>NA</td><td>16</td></tr>\n",
       "</tbody>\n",
       "</table>\n"
      ],
      "text/latex": [
       "A tibble: 6 × 2\n",
       "\\begin{tabular}{ll}\n",
       " continent & no\\_of\\_countries\\\\\n",
       " <chr> & <int>\\\\\n",
       "\\hline\n",
       "\t AF &  5\\\\\n",
       "\t AS & 27\\\\\n",
       "\t EU & 43\\\\\n",
       "\t OC &  2\\\\\n",
       "\t SA &  7\\\\\n",
       "\t NA & 16\\\\\n",
       "\\end{tabular}\n"
      ],
      "text/markdown": [
       "\n",
       "A tibble: 6 × 2\n",
       "\n",
       "| continent &lt;chr&gt; | no_of_countries &lt;int&gt; |\n",
       "|---|---|\n",
       "| AF |  5 |\n",
       "| AS | 27 |\n",
       "| EU | 43 |\n",
       "| OC |  2 |\n",
       "| SA |  7 |\n",
       "| NA | 16 |\n",
       "\n"
      ],
      "text/plain": [
       "  continent no_of_countries\n",
       "1 AF         5             \n",
       "2 AS        27             \n",
       "3 EU        43             \n",
       "4 OC         2             \n",
       "5 SA         7             \n",
       "6 NA        16             "
      ]
     },
     "metadata": {},
     "output_type": "display_data"
    }
   ],
   "source": [
    "#Just checking how many cities are there for each continent in our SRS\n",
    "city%>%group_by(continent)%>%summarize(no_of_countries = n())"
   ]
  },
  {
   "cell_type": "markdown",
   "id": "8f542fd2-0a31-4c1f-a412-fe8e023c8c50",
   "metadata": {},
   "source": [
    "> _*TEAM NOTE*_ : for the proportion calculation, i have tried calculating the avg number of words for cities from Asia. and checking *proportion* of cities with word count above this number"
   ]
  },
  {
   "cell_type": "code",
   "execution_count": 6,
   "id": "74ab0741-80b8-410d-a35b-455f6f1e6c5b",
   "metadata": {},
   "outputs": [
    {
     "data": {
      "text/html": [
       "609.074074074074"
      ],
      "text/latex": [
       "609.074074074074"
      ],
      "text/markdown": [
       "609.074074074074"
      ],
      "text/plain": [
       "[1] 609.0741"
      ]
     },
     "metadata": {},
     "output_type": "display_data"
    }
   ],
   "source": [
    "avg_wc_asia<-tibble(city)%>%filter(continent == \"AS\")%>%summarize(mean = mean(word_count))%>%as.numeric()\n",
    "avg_wc_asia"
   ]
  },
  {
   "cell_type": "code",
   "execution_count": 7,
   "id": "3e912e01-1eb3-4d34-812c-974c464edbdb",
   "metadata": {},
   "outputs": [],
   "source": [
    "avg_wiki_article_len<- 644"
   ]
  },
  {
   "cell_type": "code",
   "execution_count": 8,
   "id": "103097c7-63a7-4934-bf0c-1e7518199cff",
   "metadata": {},
   "outputs": [
    {
     "data": {
      "text/html": [
       "<table class=\"dataframe\">\n",
       "<caption>A data.frame: 6 × 12</caption>\n",
       "<thead>\n",
       "\t<tr><th></th><th scope=col>X</th><th scope=col>city</th><th scope=col>city_ascii</th><th scope=col>country</th><th scope=col>iso2</th><th scope=col>capital</th><th scope=col>population</th><th scope=col>continent</th><th scope=col>word_count</th><th scope=col>views</th><th scope=col>views_proportion</th><th scope=col>bin_var</th></tr>\n",
       "\t<tr><th></th><th scope=col>&lt;int&gt;</th><th scope=col>&lt;chr&gt;</th><th scope=col>&lt;chr&gt;</th><th scope=col>&lt;chr&gt;</th><th scope=col>&lt;chr&gt;</th><th scope=col>&lt;chr&gt;</th><th scope=col>&lt;dbl&gt;</th><th scope=col>&lt;chr&gt;</th><th scope=col>&lt;int&gt;</th><th scope=col>&lt;int&gt;</th><th scope=col>&lt;int&gt;</th><th scope=col>&lt;chr&gt;</th></tr>\n",
       "</thead>\n",
       "<tbody>\n",
       "\t<tr><th scope=row>1</th><td> 3831</td><td>Coquitlam     </td><td>Coquitlam     </td><td>Canada          </td><td>CA</td><td>       </td><td>139284</td><td>NA</td><td> 5418</td><td>272</td><td>0</td><td>yes</td></tr>\n",
       "\t<tr><th scope=row>2</th><td> 9113</td><td>Lorengau      </td><td>Lorengau      </td><td>Papua New Guinea</td><td>PG</td><td>admin  </td><td>  5806</td><td>OC</td><td>  409</td><td> 16</td><td>0</td><td>no </td></tr>\n",
       "\t<tr><th scope=row>3</th><td>  702</td><td>Asmara        </td><td>Asmara        </td><td>Eritrea         </td><td>ER</td><td>primary</td><td>963000</td><td>AF</td><td> 2557</td><td>495</td><td>0</td><td>yes</td></tr>\n",
       "\t<tr><th scope=row>4</th><td> 2285</td><td>St. Petersburg</td><td>St. Petersburg</td><td>United States   </td><td>US</td><td>       </td><td>265351</td><td>NA</td><td>11938</td><td>169</td><td>0</td><td>yes</td></tr>\n",
       "\t<tr><th scope=row>5</th><td> 7610</td><td>Fazakerley    </td><td>Fazakerley    </td><td>United Kingdom  </td><td>GB</td><td>       </td><td> 16786</td><td>EU</td><td>  277</td><td> 56</td><td>0</td><td>no </td></tr>\n",
       "\t<tr><th scope=row>6</th><td>27739</td><td>Nemyriv       </td><td>Nemyriv       </td><td>Ukraine         </td><td>UA</td><td>minor  </td><td> 11697</td><td>EU</td><td>  575</td><td> 10</td><td>0</td><td>no </td></tr>\n",
       "</tbody>\n",
       "</table>\n"
      ],
      "text/latex": [
       "A data.frame: 6 × 12\n",
       "\\begin{tabular}{r|llllllllllll}\n",
       "  & X & city & city\\_ascii & country & iso2 & capital & population & continent & word\\_count & views & views\\_proportion & bin\\_var\\\\\n",
       "  & <int> & <chr> & <chr> & <chr> & <chr> & <chr> & <dbl> & <chr> & <int> & <int> & <int> & <chr>\\\\\n",
       "\\hline\n",
       "\t1 &  3831 & Coquitlam      & Coquitlam      & Canada           & CA &         & 139284 & NA &  5418 & 272 & 0 & yes\\\\\n",
       "\t2 &  9113 & Lorengau       & Lorengau       & Papua New Guinea & PG & admin   &   5806 & OC &   409 &  16 & 0 & no \\\\\n",
       "\t3 &   702 & Asmara         & Asmara         & Eritrea          & ER & primary & 963000 & AF &  2557 & 495 & 0 & yes\\\\\n",
       "\t4 &  2285 & St. Petersburg & St. Petersburg & United States    & US &         & 265351 & NA & 11938 & 169 & 0 & yes\\\\\n",
       "\t5 &  7610 & Fazakerley     & Fazakerley     & United Kingdom   & GB &         &  16786 & EU &   277 &  56 & 0 & no \\\\\n",
       "\t6 & 27739 & Nemyriv        & Nemyriv        & Ukraine          & UA & minor   &  11697 & EU &   575 &  10 & 0 & no \\\\\n",
       "\\end{tabular}\n"
      ],
      "text/markdown": [
       "\n",
       "A data.frame: 6 × 12\n",
       "\n",
       "| <!--/--> | X &lt;int&gt; | city &lt;chr&gt; | city_ascii &lt;chr&gt; | country &lt;chr&gt; | iso2 &lt;chr&gt; | capital &lt;chr&gt; | population &lt;dbl&gt; | continent &lt;chr&gt; | word_count &lt;int&gt; | views &lt;int&gt; | views_proportion &lt;int&gt; | bin_var &lt;chr&gt; |\n",
       "|---|---|---|---|---|---|---|---|---|---|---|---|---|\n",
       "| 1 |  3831 | Coquitlam      | Coquitlam      | Canada           | CA | <!----> | 139284 | NA |  5418 | 272 | 0 | yes |\n",
       "| 2 |  9113 | Lorengau       | Lorengau       | Papua New Guinea | PG | admin   |   5806 | OC |   409 |  16 | 0 | no  |\n",
       "| 3 |   702 | Asmara         | Asmara         | Eritrea          | ER | primary | 963000 | AF |  2557 | 495 | 0 | yes |\n",
       "| 4 |  2285 | St. Petersburg | St. Petersburg | United States    | US | <!----> | 265351 | NA | 11938 | 169 | 0 | yes |\n",
       "| 5 |  7610 | Fazakerley     | Fazakerley     | United Kingdom   | GB | <!----> |  16786 | EU |   277 |  56 | 0 | no  |\n",
       "| 6 | 27739 | Nemyriv        | Nemyriv        | Ukraine          | UA | minor   |  11697 | EU |   575 |  10 | 0 | no  |\n",
       "\n"
      ],
      "text/plain": [
       "  X     city           city_ascii     country          iso2 capital population\n",
       "1  3831 Coquitlam      Coquitlam      Canada           CA           139284    \n",
       "2  9113 Lorengau       Lorengau       Papua New Guinea PG   admin     5806    \n",
       "3   702 Asmara         Asmara         Eritrea          ER   primary 963000    \n",
       "4  2285 St. Petersburg St. Petersburg United States    US           265351    \n",
       "5  7610 Fazakerley     Fazakerley     United Kingdom   GB            16786    \n",
       "6 27739 Nemyriv        Nemyriv        Ukraine          UA   minor    11697    \n",
       "  continent word_count views views_proportion bin_var\n",
       "1 NA         5418      272   0                yes    \n",
       "2 OC          409       16   0                no     \n",
       "3 AF         2557      495   0                yes    \n",
       "4 NA        11938      169   0                yes    \n",
       "5 EU          277       56   0                no     \n",
       "6 EU          575       10   0                no     "
      ]
     },
     "metadata": {},
     "output_type": "display_data"
    }
   ],
   "source": [
    "city_prop<- city%>%mutate(bin_var = ifelse(word_count>avg_wiki_article_len, \"yes\", \"no\"))\n",
    "head(city_prop)"
   ]
  },
  {
   "cell_type": "code",
   "execution_count": 9,
   "id": "9fc0c9f1-ccac-4866-bedd-dae84c7cf2d2",
   "metadata": {},
   "outputs": [
    {
     "data": {
      "text/html": [
       "<table class=\"dataframe\">\n",
       "<caption>A data.frame: 1 × 2</caption>\n",
       "<thead>\n",
       "\t<tr><th scope=col>p_hat</th><th scope=col>sd</th></tr>\n",
       "\t<tr><th scope=col>&lt;dbl&gt;</th><th scope=col>&lt;dbl&gt;</th></tr>\n",
       "</thead>\n",
       "<tbody>\n",
       "\t<tr><td>0.27</td><td>0.04386487</td></tr>\n",
       "</tbody>\n",
       "</table>\n"
      ],
      "text/latex": [
       "A data.frame: 1 × 2\n",
       "\\begin{tabular}{ll}\n",
       " p\\_hat & sd\\\\\n",
       " <dbl> & <dbl>\\\\\n",
       "\\hline\n",
       "\t 0.27 & 0.04386487\\\\\n",
       "\\end{tabular}\n"
      ],
      "text/markdown": [
       "\n",
       "A data.frame: 1 × 2\n",
       "\n",
       "| p_hat &lt;dbl&gt; | sd &lt;dbl&gt; |\n",
       "|---|---|\n",
       "| 0.27 | 0.04386487 |\n",
       "\n"
      ],
      "text/plain": [
       "  p_hat sd        \n",
       "1 0.27  0.04386487"
      ]
     },
     "metadata": {},
     "output_type": "display_data"
    }
   ],
   "source": [
    "len<- nrow(city_prop)\n",
    "p<- city_prop%>%\n",
    "        filter(bin_var == \"yes\")%>%\n",
    "        summarize(p_hat = n()/len,\n",
    "                 sd = sqrt(FPC*(n()/len)*(1-n()/len)/len))\n",
    "p"
   ]
  },
  {
   "cell_type": "markdown",
   "id": "7ba9a8a9-dc2f-4da5-8f6b-c9977d266586",
   "metadata": {},
   "source": [
    "### Estimates for SRS"
   ]
  },
  {
   "cell_type": "code",
   "execution_count": 10,
   "id": "4ff11de8-ef70-4ba8-9228-9c5300dfff64",
   "metadata": {},
   "outputs": [
    {
     "data": {
      "text/html": [
       "<table class=\"dataframe\">\n",
       "<caption>A data.frame: 6 × 11</caption>\n",
       "<thead>\n",
       "\t<tr><th></th><th scope=col>X</th><th scope=col>city</th><th scope=col>city_ascii</th><th scope=col>country</th><th scope=col>iso2</th><th scope=col>capital</th><th scope=col>population</th><th scope=col>continent</th><th scope=col>word_count</th><th scope=col>views</th><th scope=col>views_proportion</th></tr>\n",
       "\t<tr><th></th><th scope=col>&lt;int&gt;</th><th scope=col>&lt;chr&gt;</th><th scope=col>&lt;chr&gt;</th><th scope=col>&lt;chr&gt;</th><th scope=col>&lt;chr&gt;</th><th scope=col>&lt;chr&gt;</th><th scope=col>&lt;dbl&gt;</th><th scope=col>&lt;chr&gt;</th><th scope=col>&lt;int&gt;</th><th scope=col>&lt;int&gt;</th><th scope=col>&lt;int&gt;</th></tr>\n",
       "</thead>\n",
       "<tbody>\n",
       "\t<tr><th scope=row>1</th><td>13378</td><td>Euclid     </td><td>Euclid     </td><td>United States</td><td>US</td><td></td><td>46550</td><td>NA</td><td>2133</td><td>272</td><td>0</td></tr>\n",
       "\t<tr><th scope=row>2</th><td>14119</td><td>Linton Hall</td><td>Linton Hall</td><td>United States</td><td>US</td><td></td><td>41386</td><td>NA</td><td> 705</td><td> 16</td><td>0</td></tr>\n",
       "\t<tr><th scope=row>3</th><td>36241</td><td>Springs    </td><td>Springs    </td><td>United States</td><td>US</td><td></td><td> 7036</td><td>NA</td><td> 780</td><td>495</td><td>0</td></tr>\n",
       "\t<tr><th scope=row>4</th><td>18727</td><td>Waukee     </td><td>Waukee     </td><td>United States</td><td>US</td><td></td><td>24089</td><td>NA</td><td> 948</td><td>169</td><td>0</td></tr>\n",
       "\t<tr><th scope=row>5</th><td>36726</td><td>Tabernacle </td><td>Tabernacle </td><td>United States</td><td>US</td><td></td><td> 6851</td><td>NA</td><td>2198</td><td> 56</td><td>0</td></tr>\n",
       "\t<tr><th scope=row>6</th><td>24751</td><td>Fostoria   </td><td>Fostoria   </td><td>United States</td><td>US</td><td></td><td>14458</td><td>NA</td><td>  26</td><td> 10</td><td>0</td></tr>\n",
       "</tbody>\n",
       "</table>\n"
      ],
      "text/latex": [
       "A data.frame: 6 × 11\n",
       "\\begin{tabular}{r|lllllllllll}\n",
       "  & X & city & city\\_ascii & country & iso2 & capital & population & continent & word\\_count & views & views\\_proportion\\\\\n",
       "  & <int> & <chr> & <chr> & <chr> & <chr> & <chr> & <dbl> & <chr> & <int> & <int> & <int>\\\\\n",
       "\\hline\n",
       "\t1 & 13378 & Euclid      & Euclid      & United States & US &  & 46550 & NA & 2133 & 272 & 0\\\\\n",
       "\t2 & 14119 & Linton Hall & Linton Hall & United States & US &  & 41386 & NA &  705 &  16 & 0\\\\\n",
       "\t3 & 36241 & Springs     & Springs     & United States & US &  &  7036 & NA &  780 & 495 & 0\\\\\n",
       "\t4 & 18727 & Waukee      & Waukee      & United States & US &  & 24089 & NA &  948 & 169 & 0\\\\\n",
       "\t5 & 36726 & Tabernacle  & Tabernacle  & United States & US &  &  6851 & NA & 2198 &  56 & 0\\\\\n",
       "\t6 & 24751 & Fostoria    & Fostoria    & United States & US &  & 14458 & NA &   26 &  10 & 0\\\\\n",
       "\\end{tabular}\n"
      ],
      "text/markdown": [
       "\n",
       "A data.frame: 6 × 11\n",
       "\n",
       "| <!--/--> | X &lt;int&gt; | city &lt;chr&gt; | city_ascii &lt;chr&gt; | country &lt;chr&gt; | iso2 &lt;chr&gt; | capital &lt;chr&gt; | population &lt;dbl&gt; | continent &lt;chr&gt; | word_count &lt;int&gt; | views &lt;int&gt; | views_proportion &lt;int&gt; |\n",
       "|---|---|---|---|---|---|---|---|---|---|---|---|\n",
       "| 1 | 13378 | Euclid      | Euclid      | United States | US | <!----> | 46550 | NA | 2133 | 272 | 0 |\n",
       "| 2 | 14119 | Linton Hall | Linton Hall | United States | US | <!----> | 41386 | NA |  705 |  16 | 0 |\n",
       "| 3 | 36241 | Springs     | Springs     | United States | US | <!----> |  7036 | NA |  780 | 495 | 0 |\n",
       "| 4 | 18727 | Waukee      | Waukee      | United States | US | <!----> | 24089 | NA |  948 | 169 | 0 |\n",
       "| 5 | 36726 | Tabernacle  | Tabernacle  | United States | US | <!----> |  6851 | NA | 2198 |  56 | 0 |\n",
       "| 6 | 24751 | Fostoria    | Fostoria    | United States | US | <!----> | 14458 | NA |   26 |  10 | 0 |\n",
       "\n"
      ],
      "text/plain": [
       "  X     city        city_ascii  country       iso2 capital population continent\n",
       "1 13378 Euclid      Euclid      United States US           46550      NA       \n",
       "2 14119 Linton Hall Linton Hall United States US           41386      NA       \n",
       "3 36241 Springs     Springs     United States US            7036      NA       \n",
       "4 18727 Waukee      Waukee      United States US           24089      NA       \n",
       "5 36726 Tabernacle  Tabernacle  United States US            6851      NA       \n",
       "6 24751 Fostoria    Fostoria    United States US           14458      NA       \n",
       "  word_count views views_proportion\n",
       "1 2133       272   0               \n",
       "2  705        16   0               \n",
       "3  780       495   0               \n",
       "4  948       169   0               \n",
       "5 2198        56   0               \n",
       "6   26        10   0               "
      ]
     },
     "metadata": {},
     "output_type": "display_data"
    }
   ],
   "source": [
    "city_strata<-read.csv(\"cities_strat.csv\")\n",
    "head(city_strata)"
   ]
  },
  {
   "cell_type": "code",
   "execution_count": 11,
   "id": "c16c4e82-112e-44d5-8d3a-372c9540748a",
   "metadata": {},
   "outputs": [
    {
     "data": {
      "text/html": [
       "<table class=\"dataframe\">\n",
       "<caption>A tibble: 1 × 2</caption>\n",
       "<thead>\n",
       "\t<tr><th scope=col>mu_hat_str</th><th scope=col>sd_str</th></tr>\n",
       "\t<tr><th scope=col>&lt;dbl&gt;</th><th scope=col>&lt;dbl&gt;</th></tr>\n",
       "</thead>\n",
       "<tbody>\n",
       "\t<tr><td>970.61</td><td>22.59988</td></tr>\n",
       "</tbody>\n",
       "</table>\n"
      ],
      "text/latex": [
       "A tibble: 1 × 2\n",
       "\\begin{tabular}{ll}\n",
       " mu\\_hat\\_str & sd\\_str\\\\\n",
       " <dbl> & <dbl>\\\\\n",
       "\\hline\n",
       "\t 970.61 & 22.59988\\\\\n",
       "\\end{tabular}\n"
      ],
      "text/markdown": [
       "\n",
       "A tibble: 1 × 2\n",
       "\n",
       "| mu_hat_str &lt;dbl&gt; | sd_str &lt;dbl&gt; |\n",
       "|---|---|\n",
       "| 970.61 | 22.59988 |\n",
       "\n"
      ],
      "text/plain": [
       "  mu_hat_str sd_str  \n",
       "1 970.61     22.59988"
      ]
     },
     "metadata": {},
     "output_type": "display_data"
    }
   ],
   "source": [
    "city_strata%>%\n",
    "        group_by(continent)%>%\n",
    "        summarize(mean = mean(word_count),\n",
    "                  sd = sd(word_count),\n",
    "                  no_of_cities = n())%>%\n",
    "### 1% of the populaiton is from OC continent, so only 1 city is from this continent in our DF\n",
    "### this means the resulting sd of the wordcount = NA (devision by 0)\n",
    "### this is thus replaced with the value 0\n",
    "        replace_na(list(sd = 0))%>%\n",
    "        mutate(weighted_mean = mean*(no_of_cities/len),\n",
    "              weighted_var = (no_of_cities/len)^2*sd)%>%\n",
    "        summarize(mu_hat_str = sum(weighted_mean),\n",
    "                 sd_str = sqrt(FPC*sum(weighted_var)))"
   ]
  },
  {
   "cell_type": "markdown",
   "id": "df76a12b-1511-49ed-83d5-c86dfe5d4874",
   "metadata": {},
   "source": [
    "**NOTE** that our sd has become very small now and our mu_hat is more less the same"
   ]
  },
  {
   "cell_type": "code",
   "execution_count": 12,
   "id": "a7bc3b4f-61bd-4647-8d89-9779c7b783d0",
   "metadata": {},
   "outputs": [
    {
     "data": {
      "text/html": [
       "461.95"
      ],
      "text/latex": [
       "461.95"
      ],
      "text/markdown": [
       "461.95"
      ],
      "text/plain": [
       "[1] 461.95"
      ]
     },
     "metadata": {},
     "output_type": "display_data"
    }
   ],
   "source": [
    "avg_wc_asia<- tibble(city_strata)%>%filter(continent == \"AS\")%>%summarize(mean = mean(word_count))%>%as.numeric()\n",
    "avg_wc_asia"
   ]
  },
  {
   "cell_type": "markdown",
   "id": "c51a60d2-561d-407e-8c07-ac9656f913c1",
   "metadata": {},
   "source": [
    "> _*TEAM NOTE*_: note that the avg word count for asian cities is very different now. This our proportion estimation will also be very different. Since rn we have 2 different random values (mean of word count of asian cities) which are used to calculate the proportions, our estimates for proportion will be biased + have extra variance due to this RV. We need another estimate to calculate the proportions, suggestions are welcome."
   ]
  },
  {
   "cell_type": "code",
   "execution_count": 13,
   "id": "a65d8aed-47f8-46d3-a34b-a2f522cb33ce",
   "metadata": {},
   "outputs": [
    {
     "data": {
      "text/html": [
       "<table class=\"dataframe\">\n",
       "<caption>A data.frame: 6 × 12</caption>\n",
       "<thead>\n",
       "\t<tr><th></th><th scope=col>X</th><th scope=col>city</th><th scope=col>city_ascii</th><th scope=col>country</th><th scope=col>iso2</th><th scope=col>capital</th><th scope=col>population</th><th scope=col>continent</th><th scope=col>word_count</th><th scope=col>views</th><th scope=col>views_proportion</th><th scope=col>bin_var</th></tr>\n",
       "\t<tr><th></th><th scope=col>&lt;int&gt;</th><th scope=col>&lt;chr&gt;</th><th scope=col>&lt;chr&gt;</th><th scope=col>&lt;chr&gt;</th><th scope=col>&lt;chr&gt;</th><th scope=col>&lt;chr&gt;</th><th scope=col>&lt;dbl&gt;</th><th scope=col>&lt;chr&gt;</th><th scope=col>&lt;int&gt;</th><th scope=col>&lt;int&gt;</th><th scope=col>&lt;int&gt;</th><th scope=col>&lt;chr&gt;</th></tr>\n",
       "</thead>\n",
       "<tbody>\n",
       "\t<tr><th scope=row>1</th><td> 3831</td><td>Coquitlam     </td><td>Coquitlam     </td><td>Canada          </td><td>CA</td><td>       </td><td>139284</td><td>NA</td><td> 5418</td><td>272</td><td>0</td><td>yes</td></tr>\n",
       "\t<tr><th scope=row>2</th><td> 9113</td><td>Lorengau      </td><td>Lorengau      </td><td>Papua New Guinea</td><td>PG</td><td>admin  </td><td>  5806</td><td>OC</td><td>  409</td><td> 16</td><td>0</td><td>no </td></tr>\n",
       "\t<tr><th scope=row>3</th><td>  702</td><td>Asmara        </td><td>Asmara        </td><td>Eritrea         </td><td>ER</td><td>primary</td><td>963000</td><td>AF</td><td> 2557</td><td>495</td><td>0</td><td>yes</td></tr>\n",
       "\t<tr><th scope=row>4</th><td> 2285</td><td>St. Petersburg</td><td>St. Petersburg</td><td>United States   </td><td>US</td><td>       </td><td>265351</td><td>NA</td><td>11938</td><td>169</td><td>0</td><td>yes</td></tr>\n",
       "\t<tr><th scope=row>5</th><td> 7610</td><td>Fazakerley    </td><td>Fazakerley    </td><td>United Kingdom  </td><td>GB</td><td>       </td><td> 16786</td><td>EU</td><td>  277</td><td> 56</td><td>0</td><td>no </td></tr>\n",
       "\t<tr><th scope=row>6</th><td>27739</td><td>Nemyriv       </td><td>Nemyriv       </td><td>Ukraine         </td><td>UA</td><td>minor  </td><td> 11697</td><td>EU</td><td>  575</td><td> 10</td><td>0</td><td>no </td></tr>\n",
       "</tbody>\n",
       "</table>\n"
      ],
      "text/latex": [
       "A data.frame: 6 × 12\n",
       "\\begin{tabular}{r|llllllllllll}\n",
       "  & X & city & city\\_ascii & country & iso2 & capital & population & continent & word\\_count & views & views\\_proportion & bin\\_var\\\\\n",
       "  & <int> & <chr> & <chr> & <chr> & <chr> & <chr> & <dbl> & <chr> & <int> & <int> & <int> & <chr>\\\\\n",
       "\\hline\n",
       "\t1 &  3831 & Coquitlam      & Coquitlam      & Canada           & CA &         & 139284 & NA &  5418 & 272 & 0 & yes\\\\\n",
       "\t2 &  9113 & Lorengau       & Lorengau       & Papua New Guinea & PG & admin   &   5806 & OC &   409 &  16 & 0 & no \\\\\n",
       "\t3 &   702 & Asmara         & Asmara         & Eritrea          & ER & primary & 963000 & AF &  2557 & 495 & 0 & yes\\\\\n",
       "\t4 &  2285 & St. Petersburg & St. Petersburg & United States    & US &         & 265351 & NA & 11938 & 169 & 0 & yes\\\\\n",
       "\t5 &  7610 & Fazakerley     & Fazakerley     & United Kingdom   & GB &         &  16786 & EU &   277 &  56 & 0 & no \\\\\n",
       "\t6 & 27739 & Nemyriv        & Nemyriv        & Ukraine          & UA & minor   &  11697 & EU &   575 &  10 & 0 & no \\\\\n",
       "\\end{tabular}\n"
      ],
      "text/markdown": [
       "\n",
       "A data.frame: 6 × 12\n",
       "\n",
       "| <!--/--> | X &lt;int&gt; | city &lt;chr&gt; | city_ascii &lt;chr&gt; | country &lt;chr&gt; | iso2 &lt;chr&gt; | capital &lt;chr&gt; | population &lt;dbl&gt; | continent &lt;chr&gt; | word_count &lt;int&gt; | views &lt;int&gt; | views_proportion &lt;int&gt; | bin_var &lt;chr&gt; |\n",
       "|---|---|---|---|---|---|---|---|---|---|---|---|---|\n",
       "| 1 |  3831 | Coquitlam      | Coquitlam      | Canada           | CA | <!----> | 139284 | NA |  5418 | 272 | 0 | yes |\n",
       "| 2 |  9113 | Lorengau       | Lorengau       | Papua New Guinea | PG | admin   |   5806 | OC |   409 |  16 | 0 | no  |\n",
       "| 3 |   702 | Asmara         | Asmara         | Eritrea          | ER | primary | 963000 | AF |  2557 | 495 | 0 | yes |\n",
       "| 4 |  2285 | St. Petersburg | St. Petersburg | United States    | US | <!----> | 265351 | NA | 11938 | 169 | 0 | yes |\n",
       "| 5 |  7610 | Fazakerley     | Fazakerley     | United Kingdom   | GB | <!----> |  16786 | EU |   277 |  56 | 0 | no  |\n",
       "| 6 | 27739 | Nemyriv        | Nemyriv        | Ukraine          | UA | minor   |  11697 | EU |   575 |  10 | 0 | no  |\n",
       "\n"
      ],
      "text/plain": [
       "  X     city           city_ascii     country          iso2 capital population\n",
       "1  3831 Coquitlam      Coquitlam      Canada           CA           139284    \n",
       "2  9113 Lorengau       Lorengau       Papua New Guinea PG   admin     5806    \n",
       "3   702 Asmara         Asmara         Eritrea          ER   primary 963000    \n",
       "4  2285 St. Petersburg St. Petersburg United States    US           265351    \n",
       "5  7610 Fazakerley     Fazakerley     United Kingdom   GB            16786    \n",
       "6 27739 Nemyriv        Nemyriv        Ukraine          UA   minor    11697    \n",
       "  continent word_count views views_proportion bin_var\n",
       "1 NA         5418      272   0                yes    \n",
       "2 OC          409       16   0                no     \n",
       "3 AF         2557      495   0                yes    \n",
       "4 NA        11938      169   0                yes    \n",
       "5 EU          277       56   0                no     \n",
       "6 EU          575       10   0                no     "
      ]
     },
     "metadata": {},
     "output_type": "display_data"
    }
   ],
   "source": [
    "city_prop_str<- city_strata%>%mutate(bin_var = ifelse(word_count>avg_wiki_article_len, \"yes\", \"no\"))\n",
    "head(city_prop)"
   ]
  },
  {
   "cell_type": "code",
   "execution_count": 15,
   "id": "13aaf057-693b-4252-8281-ccc087901321",
   "metadata": {},
   "outputs": [
    {
     "data": {
      "text/html": [
       "<table class=\"dataframe\">\n",
       "<caption>A tibble: 1 × 2</caption>\n",
       "<thead>\n",
       "\t<tr><th scope=col>p_hat</th><th scope=col>se_str</th></tr>\n",
       "\t<tr><th scope=col>&lt;dbl&gt;</th><th scope=col>&lt;dbl&gt;</th></tr>\n",
       "</thead>\n",
       "<tbody>\n",
       "\t<tr><td>0.27</td><td>0.0419206</td></tr>\n",
       "</tbody>\n",
       "</table>\n"
      ],
      "text/latex": [
       "A tibble: 1 × 2\n",
       "\\begin{tabular}{ll}\n",
       " p\\_hat & se\\_str\\\\\n",
       " <dbl> & <dbl>\\\\\n",
       "\\hline\n",
       "\t 0.27 & 0.0419206\\\\\n",
       "\\end{tabular}\n"
      ],
      "text/markdown": [
       "\n",
       "A tibble: 1 × 2\n",
       "\n",
       "| p_hat &lt;dbl&gt; | se_str &lt;dbl&gt; |\n",
       "|---|---|\n",
       "| 0.27 | 0.0419206 |\n",
       "\n"
      ],
      "text/plain": [
       "  p_hat se_str   \n",
       "1 0.27  0.0419206"
      ]
     },
     "metadata": {},
     "output_type": "display_data"
    }
   ],
   "source": [
    "city_prop%>%\n",
    "group_by(continent)%>%\n",
    "summarize(p=sum(bin_var==\"yes\")/n(),\n",
    "         var_str = p*(1-p)/n(),\n",
    "         ratio = n()/len,\n",
    "         p_r = p*ratio,\n",
    "         var_r = var_str*ratio^2)%>%\n",
    "        summarize(p_hat = sum(p_r),\n",
    "                  se_str = sqrt(sum(var_r)*FPC))\n"
   ]
  }
 ],
 "metadata": {
  "kernelspec": {
   "display_name": "R",
   "language": "R",
   "name": "ir"
  },
  "language_info": {
   "codemirror_mode": "r",
   "file_extension": ".r",
   "mimetype": "text/x-r-source",
   "name": "R",
   "pygments_lexer": "r",
   "version": "4.1.3"
  }
 },
 "nbformat": 4,
 "nbformat_minor": 5
}
